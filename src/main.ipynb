{
 "cells": [
  {
   "cell_type": "code",
   "execution_count": 1,
   "metadata": {},
   "outputs": [
    {
     "ename": "ModuleNotFoundError",
     "evalue": "No module named 'pandas'",
     "output_type": "error",
     "traceback": [
      "\u001b[1;31m---------------------------------------------------------------------------\u001b[0m",
      "\u001b[1;31mModuleNotFoundError\u001b[0m                       Traceback (most recent call last)",
      "Cell \u001b[1;32mIn[1], line 1\u001b[0m\n\u001b[1;32m----> 1\u001b[0m \u001b[38;5;28;01mimport\u001b[39;00m \u001b[38;5;21;01mpandas\u001b[39;00m \u001b[38;5;28;01mas\u001b[39;00m \u001b[38;5;21;01mpd\u001b[39;00m\n\u001b[0;32m      2\u001b[0m \u001b[38;5;28;01mimport\u001b[39;00m \u001b[38;5;21;01mmatplotlib\u001b[39;00m\u001b[38;5;21;01m.\u001b[39;00m\u001b[38;5;21;01mpyplot\u001b[39;00m \u001b[38;5;28;01mas\u001b[39;00m \u001b[38;5;21;01mplt\u001b[39;00m\n\u001b[0;32m      3\u001b[0m \u001b[38;5;28;01mimport\u001b[39;00m \u001b[38;5;21;01mnumpy\u001b[39;00m \u001b[38;5;28;01mas\u001b[39;00m \u001b[38;5;21;01mnp\u001b[39;00m\n",
      "\u001b[1;31mModuleNotFoundError\u001b[0m: No module named 'pandas'"
     ]
    }
   ],
   "source": [
    "import pandas as pd\n",
    "import matplotlib.pyplot as plt\n",
    "import numpy as np\n",
    "import nltk\n",
    "import re\n",
    "from collections import Counter\n",
    "from nltk.tokenize import word_tokenize\n",
    "from spellchecker import SpellChecker\n",
    "\n",
    "nltk.download('punkt')"
   ]
  },
  {
   "cell_type": "code",
   "execution_count": 9,
   "metadata": {},
   "outputs": [
    {
     "name": "stdout",
     "output_type": "stream",
     "text": [
      "Data Size: (11000, 2)\n",
      "Sample Data:                                                    0         1\n",
      "0  warung ini dimiliki oleh pengusaha pabrik tahu...  positive\n",
      "1  mohon ulama lurus dan k212 mmbri hujjah partai...   neutral\n",
      "2  lokasi strategis di jalan sumatera bandung . t...  positive\n",
      "3  betapa bahagia nya diri ini saat unboxing pake...  positive\n",
      "4  duh . jadi mahasiswa jangan sombong dong . kas...  negative\n",
      "\n",
      "Sentiment Distribution: 1\n",
      "positive    6416\n",
      "negative    3436\n",
      "neutral     1148\n",
      "Name: count, dtype: int64\n"
     ]
    }
   ],
   "source": [
    "file_path = '../data/train_preprocess.tsv'\n",
    "train_data = pd.read_csv(file_path, sep='\\t', header=None)\n",
    "\n",
    "# Data Understanding\n",
    "print('Data Size:', train_data.shape)\n",
    "print('Sample Data:', train_data.head())\n",
    "print('\\nSentiment Distribution:', train_data[1].value_counts())"
   ]
  },
  {
   "cell_type": "code",
   "execution_count": 10,
   "metadata": {},
   "outputs": [
    {
     "name": "stdout",
     "output_type": "stream",
     "text": [
      "x_train:\n",
      " 0        warung ini dimiliki oleh pengusaha pabrik tahu...\n",
      "1        mohon ulama lurus dan k212 mmbri hujjah partai...\n",
      "2        lokasi strategis di jalan sumatera bandung . t...\n",
      "3        betapa bahagia nya diri ini saat unboxing pake...\n",
      "4        duh . jadi mahasiswa jangan sombong dong . kas...\n",
      "                               ...                        \n",
      "10995                                         tidak kecewa\n",
      "10996    enak rasa masakan nya apalagi kepiting yang me...\n",
      "10997          hormati partai-partai yang telah berkoalisi\n",
      "10998    pagi pagi di tol pasteur sudah macet parah , b...\n",
      "10999    meskipun sering belanja ke yogya di riau junct...\n",
      "Name: 0, Length: 11000, dtype: object\n",
      "\n",
      "y_train:\n",
      " 0        positive\n",
      "1         neutral\n",
      "2        positive\n",
      "3        positive\n",
      "4        negative\n",
      "           ...   \n",
      "10995    positive\n",
      "10996    positive\n",
      "10997     neutral\n",
      "10998    negative\n",
      "10999    positive\n",
      "Name: 1, Length: 11000, dtype: object\n"
     ]
    }
   ],
   "source": [
    "# Label Splitting\n",
    "x_train = train_data[0]\n",
    "y_train = train_data[1]\n",
    "\n",
    "print('x_train:\\n', x_train)\n",
    "print()\n",
    "print('y_train:\\n', y_train)"
   ]
  },
  {
   "cell_type": "code",
   "execution_count": 11,
   "metadata": {},
   "outputs": [
    {
     "name": "stdout",
     "output_type": "stream",
     "text": [
      "Lowercase:\n",
      "0        warung ini dimiliki oleh pengusaha pabrik tahu...\n",
      "1        mohon ulama lurus dan k212 mmbri hujjah partai...\n",
      "2        lokasi strategis di jalan sumatera bandung . t...\n",
      "3        betapa bahagia nya diri ini saat unboxing pake...\n",
      "4        duh . jadi mahasiswa jangan sombong dong . kas...\n",
      "                               ...                        \n",
      "10995                                         tidak kecewa\n",
      "10996    enak rasa masakan nya apalagi kepiting yang me...\n",
      "10997          hormati partai-partai yang telah berkoalisi\n",
      "10998    pagi pagi di tol pasteur sudah macet parah , b...\n",
      "10999    meskipun sering belanja ke yogya di riau junct...\n",
      "Name: 0, Length: 11000, dtype: object\n"
     ]
    }
   ],
   "source": [
    "# Data Preprocessing\n",
    "# Lowercase\n",
    "x_train = x_train.str.lower()\n",
    "\n",
    "print('Lowercase:')\n",
    "print(x_train)"
   ]
  },
  {
   "cell_type": "code",
   "execution_count": 12,
   "metadata": {},
   "outputs": [
    {
     "name": "stdout",
     "output_type": "stream",
     "text": [
      "Emails Found:\n",
      "0        []\n",
      "1        []\n",
      "2        []\n",
      "3        []\n",
      "4        []\n",
      "         ..\n",
      "10995    []\n",
      "10996    []\n",
      "10997    []\n",
      "10998    []\n",
      "10999    []\n",
      "Name: 0, Length: 11000, dtype: object\n",
      "\n",
      "Email Masked:\n",
      "0        warung ini dimiliki oleh pengusaha pabrik tahu...\n",
      "1        mohon ulama lurus dan k212 mmbri hujjah partai...\n",
      "2        lokasi strategis di jalan sumatera bandung . t...\n",
      "3        betapa bahagia nya diri ini saat unboxing pake...\n",
      "4        duh . jadi mahasiswa jangan sombong dong . kas...\n",
      "                               ...                        \n",
      "10995                                         tidak kecewa\n",
      "10996    enak rasa masakan nya apalagi kepiting yang me...\n",
      "10997          hormati partai-partai yang telah berkoalisi\n",
      "10998    pagi pagi di tol pasteur sudah macet parah , b...\n",
      "10999    meskipun sering belanja ke yogya di riau junct...\n",
      "Name: 0, Length: 11000, dtype: object\n"
     ]
    }
   ],
   "source": [
    "# Entity Masking\n",
    "# Email Masking\n",
    "email = re.compile('\\w+@\\w+\\.[a-z]{3}')\n",
    "emails_found = x_train.apply(lambda x: email.findall(x))\n",
    "print('Emails Found:')\n",
    "print(emails_found)\n",
    "\n",
    "print()\n",
    "x_train_mask = x_train.apply(lambda x: email.sub('_email_', x))\n",
    "print('Email Masked:')\n",
    "print(x_train_mask)"
   ]
  },
  {
   "cell_type": "code",
   "execution_count": 13,
   "metadata": {},
   "outputs": [
    {
     "name": "stdout",
     "output_type": "stream",
     "text": [
      "Phones Found:\n",
      "0        []\n",
      "1        []\n",
      "2        []\n",
      "3        []\n",
      "4        []\n",
      "         ..\n",
      "10995    []\n",
      "10996    []\n",
      "10997    []\n",
      "10998    []\n",
      "10999    []\n",
      "Name: 0, Length: 11000, dtype: object\n",
      "\n",
      "Phone Masked:\n",
      "0        warung ini dimiliki oleh pengusaha pabrik tahu...\n",
      "1        mohon ulama lurus dan k212 mmbri hujjah partai...\n",
      "2        lokasi strategis di jalan sumatera bandung . t...\n",
      "3        betapa bahagia nya diri ini saat unboxing pake...\n",
      "4        duh . jadi mahasiswa jangan sombong dong . kas...\n",
      "                               ...                        \n",
      "10995                                         tidak kecewa\n",
      "10996    enak rasa masakan nya apalagi kepiting yang me...\n",
      "10997          hormati partai-partai yang telah berkoalisi\n",
      "10998    pagi pagi di tol pasteur sudah macet parah , b...\n",
      "10999    meskipun sering belanja ke yogya di riau junct...\n",
      "Name: 0, Length: 11000, dtype: object\n"
     ]
    }
   ],
   "source": [
    "# Phone Number Masking\n",
    "phone = re.compile(r'(\\+?\\d{1,2}[-.\\s]?)?(\\(?\\d{3}\\)?[-.\\s]?)?\\d{3}[-.\\s]?\\d{4}')\n",
    "phones_found = x_train_mask.apply(lambda x: phone.findall(x))\n",
    "print('Phones Found:')\n",
    "print(phones_found)\n",
    "\n",
    "print()\n",
    "x_train_mask = x_train_mask.apply(lambda x: phone.sub('_phone_', x))\n",
    "print('Phone Masked:')\n",
    "print(x_train_mask)"
   ]
  },
  {
   "cell_type": "code",
   "execution_count": 14,
   "metadata": {},
   "outputs": [
    {
     "name": "stdout",
     "output_type": "stream",
     "text": [
      "Tokenization:\n",
      "0        [warung, ini, dimiliki, oleh, pengusaha, pabri...\n",
      "1        [mohon, ulama, lurus, dan, k212, mmbri, hujjah...\n",
      "2        [lokasi, strategis, di, jalan, sumatera, bandu...\n",
      "3        [betapa, bahagia, nya, diri, ini, saat, unboxi...\n",
      "4        [duh, ., jadi, mahasiswa, jangan, sombong, don...\n",
      "                               ...                        \n",
      "10995                                      [tidak, kecewa]\n",
      "10996    [enak, rasa, masakan, nya, apalagi, kepiting, ...\n",
      "10997    [hormati, partai-partai, yang, telah, berkoalisi]\n",
      "10998    [pagi, pagi, di, tol, pasteur, sudah, macet, p...\n",
      "10999    [meskipun, sering, belanja, ke, yogya, di, ria...\n",
      "Name: 0, Length: 11000, dtype: object\n"
     ]
    }
   ],
   "source": [
    "# Tokenization\n",
    "x_train_tokenized = x_train.apply(word_tokenize)\n",
    "\n",
    "print('Tokenization:')\n",
    "print(x_train_tokenized)"
   ]
  },
  {
   "cell_type": "code",
   "execution_count": 3,
   "metadata": {},
   "outputs": [
    {
     "ename": "ModuleNotFoundError",
     "evalue": "No module named 'spellchecker'",
     "output_type": "error",
     "traceback": [
      "\u001b[1;31m---------------------------------------------------------------------------\u001b[0m",
      "\u001b[1;31mModuleNotFoundError\u001b[0m                       Traceback (most recent call last)",
      "Cell \u001b[1;32mIn[3], line 2\u001b[0m\n\u001b[0;32m      1\u001b[0m \u001b[38;5;66;03m# Spelling Correction\u001b[39;00m\n\u001b[1;32m----> 2\u001b[0m \u001b[38;5;28;01mfrom\u001b[39;00m \u001b[38;5;21;01mspellchecker\u001b[39;00m \u001b[38;5;28;01mimport\u001b[39;00m SpellChecker \u001b[38;5;66;03m# type: ignore\u001b[39;00m\n\u001b[0;32m      4\u001b[0m \u001b[38;5;66;03m# Load the spell checker with Indonesian words\u001b[39;00m\n\u001b[0;32m      5\u001b[0m spell \u001b[38;5;241m=\u001b[39m SpellChecker(language\u001b[38;5;241m=\u001b[39m\u001b[38;5;28;01mNone\u001b[39;00m)  \u001b[38;5;66;03m# No predefined language\u001b[39;00m\n",
      "\u001b[1;31mModuleNotFoundError\u001b[0m: No module named 'spellchecker'"
     ]
    }
   ],
   "source": [
    "# Spelling Correction\n",
    "\n",
    "# Load the spell checker with Indonesian words\n",
    "spell = SpellChecker(language=None)  # No predefined language\n",
    "spell.word_frequency.load_text_file('indonesian_words.txt')  # Load a custom word list\n",
    "\n",
    "# Example text with spelling mistakes\n",
    "text = \"Jhon dan Allice sedang berkerja di Gogle.\"\n",
    "\n",
    "# Tokenize text\n",
    "tokens = text.split()\n",
    "\n",
    "# Correct spelling for each token\n",
    "corrected_tokens = [spell.correction(token) for token in tokens]\n",
    "\n",
    "# Join the corrected tokens back into a single string\n",
    "corrected_text = \" \".join(corrected_tokens)\n",
    "\n",
    "print(\"Original Text:\", text)\n",
    "print(\"Corrected Text:\", corrected_text)\n"
   ]
  }
 ],
 "metadata": {
  "kernelspec": {
   "display_name": "base",
   "language": "python",
   "name": "python3"
  },
  "language_info": {
   "codemirror_mode": {
    "name": "ipython",
    "version": 3
   },
   "file_extension": ".py",
   "mimetype": "text/x-python",
   "name": "python",
   "nbconvert_exporter": "python",
   "pygments_lexer": "ipython3",
   "version": "3.11.5"
  }
 },
 "nbformat": 4,
 "nbformat_minor": 4
}
