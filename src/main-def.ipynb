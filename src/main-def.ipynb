{
 "cells": [
  {
   "cell_type": "code",
   "execution_count": 1,
   "metadata": {},
   "outputs": [
    {
     "name": "stderr",
     "output_type": "stream",
     "text": [
      "[nltk_data] Downloading package punkt to\n",
      "[nltk_data]     C:\\Users\\Lenovo\\AppData\\Roaming\\nltk_data...\n",
      "[nltk_data]   Package punkt is already up-to-date!\n"
     ]
    },
    {
     "data": {
      "text/plain": [
       "True"
      ]
     },
     "execution_count": 1,
     "metadata": {},
     "output_type": "execute_result"
    }
   ],
   "source": [
    "import pandas as pd\n",
    "import matplotlib.pyplot as plt\n",
    "import numpy as np\n",
    "import nltk\n",
    "import re\n",
    "import string\n",
    "from collections import Counter\n",
    "from nltk.tokenize import word_tokenize\n",
    "from Sastrawi.Stemmer.StemmerFactory import StemmerFactory\n",
    "from sklearn.feature_extraction.text import TfidfVectorizer\n",
    "from IPython.display import display\n",
    "from sklearn.preprocessing import LabelEncoder\n",
    "from sklearn.linear_model import LogisticRegression\n",
    "from sklearn.metrics import f1_score, precision_score, recall_score, accuracy_score\n",
    "from sklearn.model_selection import GridSearchCV\n",
    "from sklearn.ensemble import RandomForestClassifier\n",
    "from sklearn.svm import SVC\n",
    "from sklearn.feature_extraction.text import TfidfVectorizer\n",
    "\n",
    "nltk.download('punkt')"
   ]
  },
  {
   "cell_type": "code",
   "execution_count": 2,
   "metadata": {},
   "outputs": [
    {
     "name": "stdout",
     "output_type": "stream",
     "text": [
      "Data Train\n",
      "Data Size: (11000, 2)\n",
      "Sample Data:\n"
     ]
    },
    {
     "data": {
      "text/html": [
       "<div>\n",
       "<style scoped>\n",
       "    .dataframe tbody tr th:only-of-type {\n",
       "        vertical-align: middle;\n",
       "    }\n",
       "\n",
       "    .dataframe tbody tr th {\n",
       "        vertical-align: top;\n",
       "    }\n",
       "\n",
       "    .dataframe thead th {\n",
       "        text-align: right;\n",
       "    }\n",
       "</style>\n",
       "<table border=\"1\" class=\"dataframe\">\n",
       "  <thead>\n",
       "    <tr style=\"text-align: right;\">\n",
       "      <th></th>\n",
       "      <th>0</th>\n",
       "      <th>1</th>\n",
       "    </tr>\n",
       "  </thead>\n",
       "  <tbody>\n",
       "    <tr>\n",
       "      <th>0</th>\n",
       "      <td>warung ini dimiliki oleh pengusaha pabrik tahu...</td>\n",
       "      <td>positive</td>\n",
       "    </tr>\n",
       "    <tr>\n",
       "      <th>1</th>\n",
       "      <td>mohon ulama lurus dan k212 mmbri hujjah partai...</td>\n",
       "      <td>neutral</td>\n",
       "    </tr>\n",
       "    <tr>\n",
       "      <th>2</th>\n",
       "      <td>lokasi strategis di jalan sumatera bandung . t...</td>\n",
       "      <td>positive</td>\n",
       "    </tr>\n",
       "    <tr>\n",
       "      <th>3</th>\n",
       "      <td>betapa bahagia nya diri ini saat unboxing pake...</td>\n",
       "      <td>positive</td>\n",
       "    </tr>\n",
       "    <tr>\n",
       "      <th>4</th>\n",
       "      <td>duh . jadi mahasiswa jangan sombong dong . kas...</td>\n",
       "      <td>negative</td>\n",
       "    </tr>\n",
       "  </tbody>\n",
       "</table>\n",
       "</div>"
      ],
      "text/plain": [
       "                                                   0         1\n",
       "0  warung ini dimiliki oleh pengusaha pabrik tahu...  positive\n",
       "1  mohon ulama lurus dan k212 mmbri hujjah partai...   neutral\n",
       "2  lokasi strategis di jalan sumatera bandung . t...  positive\n",
       "3  betapa bahagia nya diri ini saat unboxing pake...  positive\n",
       "4  duh . jadi mahasiswa jangan sombong dong . kas...  negative"
      ]
     },
     "metadata": {},
     "output_type": "display_data"
    },
    {
     "name": "stdout",
     "output_type": "stream",
     "text": [
      "\n",
      "Sentiment Distribution: 1\n",
      "positive    6416\n",
      "negative    3436\n",
      "neutral     1148\n",
      "Name: count, dtype: int64\n",
      "\n",
      "Data Validation\n",
      "Data Size: (1260, 2)\n",
      "Sample Data:\n"
     ]
    },
    {
     "data": {
      "text/html": [
       "<div>\n",
       "<style scoped>\n",
       "    .dataframe tbody tr th:only-of-type {\n",
       "        vertical-align: middle;\n",
       "    }\n",
       "\n",
       "    .dataframe tbody tr th {\n",
       "        vertical-align: top;\n",
       "    }\n",
       "\n",
       "    .dataframe thead th {\n",
       "        text-align: right;\n",
       "    }\n",
       "</style>\n",
       "<table border=\"1\" class=\"dataframe\">\n",
       "  <thead>\n",
       "    <tr style=\"text-align: right;\">\n",
       "      <th></th>\n",
       "      <th>0</th>\n",
       "      <th>1</th>\n",
       "    </tr>\n",
       "  </thead>\n",
       "  <tbody>\n",
       "    <tr>\n",
       "      <th>0</th>\n",
       "      <td>meski masa kampanye sudah selesai , bukan bera...</td>\n",
       "      <td>neutral</td>\n",
       "    </tr>\n",
       "    <tr>\n",
       "      <th>1</th>\n",
       "      <td>tidak enak</td>\n",
       "      <td>negative</td>\n",
       "    </tr>\n",
       "    <tr>\n",
       "      <th>2</th>\n",
       "      <td>restoran ini menawarkan makanan sunda . kami m...</td>\n",
       "      <td>positive</td>\n",
       "    </tr>\n",
       "    <tr>\n",
       "      <th>3</th>\n",
       "      <td>lokasi di alun alun masakan padang ini cukup t...</td>\n",
       "      <td>positive</td>\n",
       "    </tr>\n",
       "    <tr>\n",
       "      <th>4</th>\n",
       "      <td>betapa bejad kader gerindra yang anggota dprd ...</td>\n",
       "      <td>negative</td>\n",
       "    </tr>\n",
       "  </tbody>\n",
       "</table>\n",
       "</div>"
      ],
      "text/plain": [
       "                                                   0         1\n",
       "0  meski masa kampanye sudah selesai , bukan bera...   neutral\n",
       "1                                         tidak enak  negative\n",
       "2  restoran ini menawarkan makanan sunda . kami m...  positive\n",
       "3  lokasi di alun alun masakan padang ini cukup t...  positive\n",
       "4  betapa bejad kader gerindra yang anggota dprd ...  negative"
      ]
     },
     "metadata": {},
     "output_type": "display_data"
    },
    {
     "name": "stdout",
     "output_type": "stream",
     "text": [
      "\n",
      "Data Test\n",
      "Data Size: (500, 2)\n",
      "Sample Data:\n"
     ]
    },
    {
     "data": {
      "text/html": [
       "<div>\n",
       "<style scoped>\n",
       "    .dataframe tbody tr th:only-of-type {\n",
       "        vertical-align: middle;\n",
       "    }\n",
       "\n",
       "    .dataframe tbody tr th {\n",
       "        vertical-align: top;\n",
       "    }\n",
       "\n",
       "    .dataframe thead th {\n",
       "        text-align: right;\n",
       "    }\n",
       "</style>\n",
       "<table border=\"1\" class=\"dataframe\">\n",
       "  <thead>\n",
       "    <tr style=\"text-align: right;\">\n",
       "      <th></th>\n",
       "      <th>0</th>\n",
       "      <th>1</th>\n",
       "    </tr>\n",
       "  </thead>\n",
       "  <tbody>\n",
       "    <tr>\n",
       "      <th>0</th>\n",
       "      <td>kemarin gue datang ke tempat makan baru yang a...</td>\n",
       "      <td>negative</td>\n",
       "    </tr>\n",
       "    <tr>\n",
       "      <th>1</th>\n",
       "      <td>kayak nya sih gue tidak akan mau balik lagi ke...</td>\n",
       "      <td>negative</td>\n",
       "    </tr>\n",
       "    <tr>\n",
       "      <th>2</th>\n",
       "      <td>kalau dipikir-pikir , sebenarnya tidak ada yan...</td>\n",
       "      <td>negative</td>\n",
       "    </tr>\n",
       "    <tr>\n",
       "      <th>3</th>\n",
       "      <td>ini pertama kalinya gua ke bank buat ngurusin ...</td>\n",
       "      <td>negative</td>\n",
       "    </tr>\n",
       "    <tr>\n",
       "      <th>4</th>\n",
       "      <td>waktu sampai dengan gue pernah disuruh ibu lat...</td>\n",
       "      <td>negative</td>\n",
       "    </tr>\n",
       "  </tbody>\n",
       "</table>\n",
       "</div>"
      ],
      "text/plain": [
       "                                                   0         1\n",
       "0  kemarin gue datang ke tempat makan baru yang a...  negative\n",
       "1  kayak nya sih gue tidak akan mau balik lagi ke...  negative\n",
       "2  kalau dipikir-pikir , sebenarnya tidak ada yan...  negative\n",
       "3  ini pertama kalinya gua ke bank buat ngurusin ...  negative\n",
       "4  waktu sampai dengan gue pernah disuruh ibu lat...  negative"
      ]
     },
     "metadata": {},
     "output_type": "display_data"
    }
   ],
   "source": [
    "file_path_train = '../data/train_preprocess.tsv'\n",
    "train_data = pd.read_csv(file_path_train, sep='\\t', header=None)\n",
    "\n",
    "file_path_val = '../data/valid_preprocess.tsv'\n",
    "val_data = pd.read_csv(file_path_val, sep='\\t', header=None)\n",
    "\n",
    "file_path_test = '../data/test_preprocess.tsv'\n",
    "test_data = pd.read_csv(file_path_test, sep='\\t', header=None)\n",
    "\n",
    "# Data Understanding\n",
    "print('Data Train')\n",
    "print('Data Size:', train_data.shape)\n",
    "print('Sample Data:')\n",
    "display(train_data.head())\n",
    "print('\\nSentiment Distribution:', train_data[1].value_counts())\n",
    "\n",
    "print('\\nData Validation')\n",
    "print('Data Size:', val_data.shape)\n",
    "print('Sample Data:')\n",
    "display(val_data.head())\n",
    "\n",
    "print('\\nData Test')\n",
    "print('Data Size:', test_data.shape)\n",
    "print('Sample Data:')\n",
    "display(test_data.head())"
   ]
  },
  {
   "cell_type": "code",
   "execution_count": 3,
   "metadata": {},
   "outputs": [
    {
     "name": "stdout",
     "output_type": "stream",
     "text": [
      "x_train:\n",
      "\n"
     ]
    },
    {
     "data": {
      "text/plain": [
       "0    warung ini dimiliki oleh pengusaha pabrik tahu...\n",
       "1    mohon ulama lurus dan k212 mmbri hujjah partai...\n",
       "2    lokasi strategis di jalan sumatera bandung . t...\n",
       "3    betapa bahagia nya diri ini saat unboxing pake...\n",
       "4    duh . jadi mahasiswa jangan sombong dong . kas...\n",
       "Name: 0, dtype: object"
      ]
     },
     "metadata": {},
     "output_type": "display_data"
    },
    {
     "name": "stdout",
     "output_type": "stream",
     "text": [
      "y_train:\n",
      "\n"
     ]
    },
    {
     "data": {
      "text/plain": [
       "0    positive\n",
       "1     neutral\n",
       "2    positive\n",
       "3    positive\n",
       "4    negative\n",
       "Name: 1, dtype: object"
      ]
     },
     "metadata": {},
     "output_type": "display_data"
    },
    {
     "name": "stdout",
     "output_type": "stream",
     "text": [
      "x_val:\n",
      "\n"
     ]
    },
    {
     "data": {
      "text/plain": [
       "0    meski masa kampanye sudah selesai , bukan bera...\n",
       "1                                           tidak enak\n",
       "2    restoran ini menawarkan makanan sunda . kami m...\n",
       "3    lokasi di alun alun masakan padang ini cukup t...\n",
       "4    betapa bejad kader gerindra yang anggota dprd ...\n",
       "Name: 0, dtype: object"
      ]
     },
     "metadata": {},
     "output_type": "display_data"
    },
    {
     "name": "stdout",
     "output_type": "stream",
     "text": [
      "y_val:\n",
      "\n"
     ]
    },
    {
     "data": {
      "text/plain": [
       "0     neutral\n",
       "1    negative\n",
       "2    positive\n",
       "3    positive\n",
       "4    negative\n",
       "Name: 1, dtype: object"
      ]
     },
     "metadata": {},
     "output_type": "display_data"
    },
    {
     "name": "stdout",
     "output_type": "stream",
     "text": [
      "x_test:\n",
      "\n"
     ]
    },
    {
     "data": {
      "text/plain": [
       "0    kemarin gue datang ke tempat makan baru yang a...\n",
       "1    kayak nya sih gue tidak akan mau balik lagi ke...\n",
       "2    kalau dipikir-pikir , sebenarnya tidak ada yan...\n",
       "3    ini pertama kalinya gua ke bank buat ngurusin ...\n",
       "4    waktu sampai dengan gue pernah disuruh ibu lat...\n",
       "Name: 0, dtype: object"
      ]
     },
     "metadata": {},
     "output_type": "display_data"
    },
    {
     "name": "stdout",
     "output_type": "stream",
     "text": [
      "y_test:\n",
      "\n"
     ]
    },
    {
     "data": {
      "text/plain": [
       "0    negative\n",
       "1    negative\n",
       "2    negative\n",
       "3    negative\n",
       "4    negative\n",
       "Name: 1, dtype: object"
      ]
     },
     "metadata": {},
     "output_type": "display_data"
    }
   ],
   "source": [
    "# Label Splitting\n",
    "x_train = train_data[0]\n",
    "y_train = train_data[1]\n",
    "\n",
    "print('x_train:\\n')\n",
    "display(x_train.head())\n",
    "print('y_train:\\n')\n",
    "display(y_train.head())\n",
    "\n",
    "x_val = val_data[0]\n",
    "y_val = val_data[1]\n",
    "print('x_val:\\n')\n",
    "display(x_val.head())\n",
    "print('y_val:\\n')\n",
    "display(y_val.head())\n",
    "\n",
    "x_test = test_data[0]\n",
    "y_test = test_data[1]\n",
    "print('x_test:\\n')\n",
    "display(x_test.head())\n",
    "print('y_test:\\n')\n",
    "display(y_test.head())"
   ]
  },
  {
   "cell_type": "code",
   "execution_count": 4,
   "metadata": {},
   "outputs": [
    {
     "name": "stdout",
     "output_type": "stream",
     "text": [
      "Encoded labels train: [2 1 2 ... 1 0 2]\n",
      "Encoded labels validation: [1 0 2 ... 0 0 2]\n",
      "Encoded labels test: [0 0 0 0 0 0 0 0 0 0 0 0 0 0 0 0 0 0 0 0 0 0 0 0 0 0 0 0 0 0 0 0 0 0 0 0 0\n",
      " 0 0 0 0 0 0 0 0 0 0 0 0 0 0 0 0 0 0 0 0 0 0 0 0 0 0 0 0 0 0 0 0 0 0 0 0 0\n",
      " 0 0 0 0 0 0 0 0 0 0 0 0 0 0 0 0 0 0 0 0 0 0 0 0 0 0 0 0 0 0 0 0 0 0 0 0 0\n",
      " 0 0 0 0 0 0 0 0 0 0 0 0 0 0 2 2 2 2 2 2 2 2 2 2 2 2 2 2 2 2 2 2 2 2 2 2 2\n",
      " 2 2 0 2 2 2 2 2 2 2 2 2 2 2 2 2 2 2 2 2 2 2 2 2 2 2 2 2 2 2 2 2 2 2 2 2 2\n",
      " 2 2 2 2 2 2 2 2 2 2 2 2 2 2 2 2 2 2 2 2 2 2 2 2 2 2 2 2 2 2 2 2 2 2 2 2 2\n",
      " 2 2 2 2 2 2 2 2 2 2 2 2 2 2 2 2 2 2 2 2 2 2 2 2 2 2 2 2 1 1 1 1 0 1 1 1 1\n",
      " 0 1 1 1 1 1 1 1 1 1 1 1 1 2 1 1 1 1 1 1 1 1 1 1 1 1 2 1 1 2 1 1 1 1 1 1 1\n",
      " 1 1 1 1 0 0 0 0 0 0 0 0 0 0 0 0 0 0 0 0 0 0 0 0 0 0 0 0 0 0 0 0 0 0 0 0 0\n",
      " 0 0 0 0 0 0 0 0 0 0 0 0 0 0 0 0 0 0 0 0 0 0 0 0 0 0 0 0 0 0 0 0 0 0 0 0 0\n",
      " 0 0 0 0 0 2 2 2 2 2 2 2 2 2 2 2 2 2 2 2 2 2 2 2 2 2 2 2 2 2 2 2 2 2 2 2 2\n",
      " 2 2 2 2 2 2 2 2 2 2 2 2 2 2 2 2 2 2 2 2 2 2 2 2 2 2 2 2 2 2 2 2 2 2 2 2 2\n",
      " 2 2 2 2 2 2 1 1 1 1 1 1 1 1 1 1 0 1 1 1 1 1 1 1 1 1 1 1 1 1 1 1 1 2 1 1 1\n",
      " 1 2 1 2 1 1 1 2 2 1 1 1 1 1 1 1 1 2 1]\n",
      "Classes: ['negative' 'neutral' 'positive']\n"
     ]
    }
   ],
   "source": [
    "# Label Encoding\n",
    "label_encoder = LabelEncoder()\n",
    "y_train_encoded = label_encoder.fit_transform(y_train)\n",
    "y_val_encoded = label_encoder.transform(y_val)\n",
    "y_test_encoded = label_encoder.transform(y_test)\n",
    "\n",
    "print('Encoded labels train:', y_train_encoded)\n",
    "print('Encoded labels validation:', y_val_encoded)\n",
    "print('Encoded labels test:', y_test_encoded)\n",
    "print('Classes:', label_encoder.classes_)"
   ]
  },
  {
   "cell_type": "code",
   "execution_count": 5,
   "metadata": {},
   "outputs": [],
   "source": [
    "# Preprocessing\n",
    "def lowercase (data):\n",
    "    return data.str.lower()\n",
    "\n",
    "def entity_masking (data):\n",
    "    # Email masking\n",
    "    email = re.compile(r'\\w+@\\w+\\.[a-z]{3}')\n",
    "    data_mask = data.apply(lambda x: email.sub('_email_', x))\n",
    "\n",
    "    # Phone Number Masking\n",
    "    phone = re.compile(r'(\\+?\\d{1,2}[-.\\s]?)?(\\(?\\d{3}\\)?[-.\\s]?)?\\d{3}[-.\\s]?\\d{4}')\n",
    "    data_mask = data_mask.apply(lambda x: phone.sub('_phone_', x))\n",
    "    \n",
    "    return data_mask\n",
    "\n",
    "def tokenization (data):\n",
    "    data_tokenize = data.apply(lambda x: word_tokenize(x))\n",
    "    return data_tokenize\n",
    "\n",
    "def idn_spelling_correction (data):\n",
    "    factory = StemmerFactory()\n",
    "    stemmer = factory.create_stemmer()\n",
    "    \n",
    "    data_stem = []\n",
    "    for sentence in data:\n",
    "        stemmed_words = [stemmer.stem(word) for word in sentence]\n",
    "        data_stem.append(stemmed_words)\n",
    "\n",
    "    return data_stem\n",
    "\n",
    "def remove_punctuation (data):\n",
    "    data_nopunc = []\n",
    "\n",
    "    for sentence in data:\n",
    "        cleaned_sentence = [word for word in sentence if word not in string.punctuation]\n",
    "        data_nopunc.append(cleaned_sentence)\n",
    "\n",
    "    return data_nopunc\n",
    "\n",
    "def preprocess (data):\n",
    "    data = lowercase(data)\n",
    "    data = entity_masking(data)\n",
    "    data = tokenization(data)\n",
    "    data = idn_spelling_correction(data)\n",
    "    data = remove_punctuation(data)\n",
    "    return data"
   ]
  },
  {
   "cell_type": "code",
   "execution_count": 7,
   "metadata": {},
   "outputs": [],
   "source": [
    "# Preprocess Data\n",
    "x_train_preprocessed = preprocess(x_train)\n",
    "x_val_preprocessed = preprocess(x_val)\n",
    "x_test_preprocessed = preprocess(x_test)"
   ]
  },
  {
   "cell_type": "code",
   "execution_count": 14,
   "metadata": {},
   "outputs": [],
   "source": [
    "# Feature Extraction: Bag of Words TF-IDF\n",
    "x_train_preprocessed = [' '.join(doc) for doc in x_train_preprocessed]\n",
    "x_val_preprocessed = [' '.join(doc) for doc in x_val_preprocessed]\n",
    "x_test_preprocessed = [' '.join(doc) for doc in x_test_preprocessed]\n",
    "\n",
    "tfidf_vec = TfidfVectorizer(min_df=100, token_pattern=r'[a-zA-Z]+')\n",
    "x_train_bow = tfidf_vec.fit_transform(x_train_preprocessed)\n",
    "x_val_bow = tfidf_vec.transform(x_val_preprocessed)\n",
    "x_test_bow = tfidf_vec.transform(x_test_preprocessed)\n"
   ]
  },
  {
   "cell_type": "code",
   "execution_count": 17,
   "metadata": {},
   "outputs": [],
   "source": [
    "# Evaluation Metrics: Accuracy, Precision, Recall, F1-Score\n",
    "def model_predict(model, x):\n",
    "    y_pred = model.predict(x)\n",
    "\n",
    "    return y_pred\n",
    "\n",
    "def model_evaluation(y_pred, y_actual):\n",
    "    accuracy = accuracy_score(y_actual, y_pred)\n",
    "    precision = precision_score(y_actual, y_pred, average='weighted')\n",
    "    recall = recall_score(y_actual, y_pred, average='weighted')\n",
    "    f1 = f1_score(y_actual, y_pred, average='weighted')\n",
    "\n",
    "    return accuracy, precision, recall, f1"
   ]
  },
  {
   "cell_type": "code",
   "execution_count": 24,
   "metadata": {},
   "outputs": [
    {
     "name": "stdout",
     "output_type": "stream",
     "text": [
      "Logistic Regression\n",
      "Predictions: [0 2 2 ... 2 2 2]\n",
      "Actual: [1 0 2 ... 0 0 2]\n",
      "\n",
      "Accuracy: 0.6634920634920635\n",
      "Precision: 0.637041247647381\n",
      "Recall: 0.6634920634920635\n",
      "F1-Score: 0.6298988267935423\n",
      "\n",
      "Hyperparameter Tuning for Logistic Regression\n",
      "Best Parameters (LogReg): {'C': 10, 'solver': 'newton-cg'}\n",
      "Best Score (LogReg): 0.6822727272727273\n",
      "Predictions: [0 2 2 ... 2 2 2]\n",
      "Actual: [1 0 2 ... 0 0 2]\n",
      "\n",
      "Accuracy: 0.6706349206349206\n",
      "Precision: 0.6482914579973402\n",
      "Recall: 0.6706349206349206\n",
      "F1-Score: 0.6420954434456648\n"
     ]
    }
   ],
   "source": [
    "# Model Training\n",
    "# Logistic Regression\n",
    "print('Logistic Regression')\n",
    "logreg = LogisticRegression(max_iter=1000)\n",
    "logreg.fit(x_train_bow, y_train_encoded)\n",
    "\n",
    "# Predictions validation data\n",
    "y_pred = model_predict(logreg, x_val_bow)\n",
    "print('Predictions:', y_pred)\n",
    "print('Actual:', y_val_encoded)\n",
    "print()\n",
    "\n",
    "evaluation_metrics = model_evaluation(y_pred, y_val_encoded)\n",
    "print('Accuracy:', evaluation_metrics[0])\n",
    "print('Precision:', evaluation_metrics[1])\n",
    "print('Recall:', evaluation_metrics[2])\n",
    "print('F1-Score:', evaluation_metrics[3])\n",
    "\n",
    "# Hyperparameter Tuning\n",
    "print(\"\\nHyperparameter Tuning for Logistic Regression\")\n",
    "param_grid_logreg = {\n",
    "    'C': [0.1, 1, 10],\n",
    "    'solver': ['newton-cg', 'lbfgs', 'liblinear']\n",
    "}\n",
    "grid_search_logreg = GridSearchCV(LogisticRegression(max_iter=1000), param_grid_logreg, cv=5)\n",
    "grid_search_logreg.fit(x_train_bow, y_train_encoded)\n",
    "print('Best Parameters (LogReg):', grid_search_logreg.best_params_)\n",
    "print('Best Score (LogReg):', grid_search_logreg.best_score_)\n",
    "\n",
    "# Predictions validation data\n",
    "y_pred = model_predict(grid_search_logreg, x_val_bow)\n",
    "print('Predictions:', y_pred)\n",
    "print('Actual:', y_val_encoded)\n",
    "print()\n",
    "\n",
    "evaluation_metrics = model_evaluation(y_pred, y_val_encoded)\n",
    "print('Accuracy:', evaluation_metrics[0])\n",
    "print('Precision:', evaluation_metrics[1])\n",
    "print('Recall:', evaluation_metrics[2])\n",
    "print('F1-Score:', evaluation_metrics[3])"
   ]
  },
  {
   "cell_type": "code",
   "execution_count": 25,
   "metadata": {},
   "outputs": [
    {
     "name": "stdout",
     "output_type": "stream",
     "text": [
      "Random Forest\n",
      "Predictions: [0 2 2 ... 2 0 2]\n",
      "Actual: [1 0 2 ... 0 0 2]\n",
      "\n",
      "Accuracy: 0.6984126984126984\n",
      "Precision: 0.6917692435633565\n",
      "Recall: 0.6984126984126984\n",
      "F1-Score: 0.6866909583249067\n",
      "\n",
      "Hyperparameter Tuning for Random Forest\n",
      "Best Parameters (RandomForest): {'max_depth': 20, 'n_estimators': 200}\n",
      "Best Score (RandomForest): 0.7158181818181819\n",
      "Predictions: [0 0 2 ... 2 2 2]\n",
      "Actual: [1 0 2 ... 0 0 2]\n",
      "\n",
      "Accuracy: 0.6952380952380952\n",
      "Precision: 0.6858872535275782\n",
      "Recall: 0.6952380952380952\n",
      "F1-Score: 0.6832383541046135\n"
     ]
    }
   ],
   "source": [
    "# Random Forest Classifier\n",
    "print('Random Forest')\n",
    "rf = RandomForestClassifier()\n",
    "rf.fit(x_train_bow, y_train_encoded)\n",
    "\n",
    "# Prediction on validation set\n",
    "y_pred = model_predict(rf, x_val_bow)\n",
    "print('Predictions:', y_pred)\n",
    "print('Actual:', y_val_encoded)\n",
    "print()\n",
    "\n",
    "evaluation_metrics = model_evaluation(y_pred, y_val_encoded)\n",
    "print('Accuracy:', evaluation_metrics[0])\n",
    "print('Precision:', evaluation_metrics[1])\n",
    "print('Recall:', evaluation_metrics[2])\n",
    "print('F1-Score:', evaluation_metrics[3])\n",
    "\n",
    "# Hyperparameter Tuning\n",
    "print(\"\\nHyperparameter Tuning for Random Forest\")\n",
    "param_grid_rf = {\n",
    "    'n_estimators': [100, 200],\n",
    "    'max_depth': [10, 20]\n",
    "}\n",
    "grid_search_rf = GridSearchCV(RandomForestClassifier(), param_grid_rf, cv=5)\n",
    "grid_search_rf.fit(x_train_bow, y_train_encoded)\n",
    "print('Best Parameters (RandomForest):', grid_search_rf.best_params_)\n",
    "print('Best Score (RandomForest):', grid_search_rf.best_score_)\n",
    "\n",
    "# Prediction on validation data\n",
    "y_pred = model_predict(grid_search_rf, x_val_bow)\n",
    "print('Predictions:', y_pred)\n",
    "print('Actual:', y_val_encoded)\n",
    "print()\n",
    "\n",
    "evaluation_metrics = model_evaluation(y_pred, y_val_encoded)\n",
    "print('Accuracy:', evaluation_metrics[0])\n",
    "print('Precision:', evaluation_metrics[1])\n",
    "print('Recall:', evaluation_metrics[2])\n",
    "print('F1-Score:', evaluation_metrics[3])"
   ]
  },
  {
   "cell_type": "code",
   "execution_count": 26,
   "metadata": {},
   "outputs": [
    {
     "name": "stdout",
     "output_type": "stream",
     "text": [
      "Predictions: [0 0 2 ... 2 2 2]\n",
      "Actual: [1 0 2 ... 0 0 2]\n",
      "\n",
      "Support Vector Machine\n",
      "Accuracy: 0.6968253968253968\n",
      "Precision: 0.6809768771056545\n",
      "Recall: 0.6968253968253968\n",
      "F1-Score: 0.6813644328472854\n",
      "\n",
      "Hyperparameter Tuning for Support Vector Machine\n",
      "Best Parameters (SVM): {'C': 10, 'kernel': 'rbf'}\n",
      "Best Score (SVM): 0.7238181818181817\n",
      "Predictions: [0 0 2 ... 2 2 2]\n",
      "Actual: [1 0 2 ... 0 0 2]\n",
      "\n",
      "Accuracy: 0.703968253968254\n",
      "Precision: 0.6869554094359898\n",
      "Recall: 0.703968253968254\n",
      "F1-Score: 0.6900201337960555\n"
     ]
    }
   ],
   "source": [
    "# Support Vector Machine\n",
    "svm = SVC()\n",
    "svm.fit(x_train_bow, y_train_encoded)\n",
    "\n",
    "# Prediction on validation data\n",
    "y_pred = model_predict(svm, x_val_bow)\n",
    "print('Predictions:', y_pred)\n",
    "print('Actual:', y_val_encoded)\n",
    "print()\n",
    "\n",
    "evaluation_metrics = model_evaluation(y_pred, y_val_encoded)\n",
    "print('Support Vector Machine')\n",
    "print('Accuracy:', evaluation_metrics[0])\n",
    "print('Precision:', evaluation_metrics[1])\n",
    "print('Recall:', evaluation_metrics[2])\n",
    "print('F1-Score:', evaluation_metrics[3])\n",
    "\n",
    "# Hyperparameter Tuning\n",
    "print(\"\\nHyperparameter Tuning for Support Vector Machine\")\n",
    "param_grid_svm = {\n",
    "    'C': [0.1, 1, 10],\n",
    "    'kernel': ['linear', 'rbf']\n",
    "}\n",
    "\n",
    "grid_search_svm = GridSearchCV(SVC(), param_grid_svm, cv=5)\n",
    "grid_search_svm.fit(x_train_bow, y_train_encoded)\n",
    "print('Best Parameters (SVM):', grid_search_svm.best_params_)\n",
    "print('Best Score (SVM):', grid_search_svm.best_score_)\n",
    "\n",
    "# Prediction on validation data\n",
    "y_pred = model_predict(grid_search_svm, x_val_bow)\n",
    "print('Predictions:', y_pred)\n",
    "print('Actual:', y_val_encoded)\n",
    "print()\n",
    "\n",
    "evaluation_metrics = model_evaluation(y_pred, y_val_encoded)\n",
    "print('Accuracy:', evaluation_metrics[0])\n",
    "print('Precision:', evaluation_metrics[1])\n",
    "print('Recall:', evaluation_metrics[2])\n",
    "print('F1-Score:', evaluation_metrics[3])"
   ]
  }
 ],
 "metadata": {
  "kernelspec": {
   "display_name": "Python 3",
   "language": "python",
   "name": "python3"
  },
  "language_info": {
   "codemirror_mode": {
    "name": "ipython",
    "version": 3
   },
   "file_extension": ".py",
   "mimetype": "text/x-python",
   "name": "python",
   "nbconvert_exporter": "python",
   "pygments_lexer": "ipython3",
   "version": "3.12.5"
  }
 },
 "nbformat": 4,
 "nbformat_minor": 4
}
